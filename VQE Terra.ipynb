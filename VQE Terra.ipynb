{
 "cells": [
  {
   "cell_type": "code",
   "execution_count": 54,
   "id": "dcecefea",
   "metadata": {},
   "outputs": [],
   "source": [
    "#VQE Base code source: https://qiskit.org/documentation/tutorials/algorithms/04_vqe_advanced.html\n",
    "#The following is the code for a VQE based on Qiskit Terra in light of Aqua's deprecation\n",
    "\n",
    "import numpy as np\n",
    "import matplotlib.pyplot as plt\n",
    "from qiskit import Aer\n",
    "from qiskit.utils import QuantumInstance, algorithm_globals\n",
    "from qiskit.algorithms import VQE\n",
    "from qiskit.algorithms.optimizers import SLSQP\n",
    "from qiskit.circuit.library import EfficientSU2\n",
    "from qiskit_nature.mappers.second_quantization import JordanWignerMapper\n",
    "from qiskit_nature.problems.second_quantization.lattice import LineLattice, FermiHubbardModel"
   ]
  },
  {
   "cell_type": "code",
   "execution_count": 49,
   "id": "96f71a51",
   "metadata": {},
   "outputs": [
    {
     "name": "stdout",
     "output_type": "stream",
     "text": [
      "0.5 * IIIIIIIIIYZY\n",
      "+ 0.5 * IIIIIIIIIXZX\n",
      "+ 0.5 * IIIIIIIYZYII\n",
      "+ 0.5 * IIIIIIIXZXII\n",
      "+ 0.5 * IIIIIYZYIIII\n",
      "+ 0.5 * IIIIIXZXIIII\n",
      "+ 0.5 * IIIYZYIIIIII\n",
      "+ 0.5 * IIIXZXIIIIII\n",
      "+ 0.5 * IYZYIIIIIIII\n",
      "+ 0.5 * IXZXIIIIIIII\n",
      "+ 30.0 * IIIIIIIIIIII\n",
      "- 3.0 * IIIIIIIIIIIZ\n",
      "- 3.0 * IIIIIIIIIZII\n",
      "- 3.0 * IIIIIIIZIIII\n",
      "- 3.0 * IIIIIZIIIIII\n",
      "- 3.0 * IIIZIIIIIIII\n",
      "- 3.0 * IZIIIIIIIIII\n",
      "+ 0.5 * IIIIIIIIYZYI\n",
      "+ 0.5 * IIIIIIIIXZXI\n",
      "+ 0.5 * IIIIIIYZYIII\n",
      "+ 0.5 * IIIIIIXZXIII\n",
      "+ 0.5 * IIIIYZYIIIII\n",
      "+ 0.5 * IIIIXZXIIIII\n",
      "+ 0.5 * IIYZYIIIIIII\n",
      "+ 0.5 * IIXZXIIIIIII\n",
      "+ 0.5 * YZYIIIIIIIII\n",
      "+ 0.5 * XZXIIIIIIIII\n",
      "- 3.0 * IIIIIIIIIIZI\n",
      "- 3.0 * IIIIIIIIZIII\n",
      "- 3.0 * IIIIIIZIIIII\n",
      "- 3.0 * IIIIZIIIIIII\n",
      "- 3.0 * IIZIIIIIIIII\n",
      "- 3.0 * ZIIIIIIIIIII\n",
      "+ 1.0 * IIIIIIIIIIZZ\n",
      "+ 1.0 * IIIIIIIIZZII\n",
      "+ 1.0 * IIIIIIZZIIII\n",
      "+ 1.0 * IIIIZZIIIIII\n",
      "+ 1.0 * IIZZIIIIIIII\n",
      "+ 1.0 * ZZIIIIIIIIII\n"
     ]
    },
    {
     "data": {
      "image/png": "[encoded data removed]",
      "text/plain": [
       "<Figure size 432x288 with 1 Axes>"
      ]
     },
     "metadata": {},
     "output_type": "display_data"
    }
   ],
   "source": [
    "# Model specifications: 6 sites, U = 4, t = 1, Jordan-Wigner qubit mapping\n",
    "\n",
    "L = LineLattice(6,onsite_parameter=4,edge_parameter=1)\n",
    "\n",
    "L.draw() # Drawing of Hubbard Model lattice\n",
    "hamiltonian = FermiHubbardModel(L,4).second_q_ops(display_format='dense')\n",
    "op = JordanWignerMapper().map(hamiltonian)\n",
    "\n",
    "#print(L.weighted_edge_list)\n",
    "print(op) # Hubbard model Hamiltonian in the form of fermionic operators"
   ]
  },
  {
   "cell_type": "code",
   "execution_count": 50,
   "id": "706aeed9",
   "metadata": {},
   "outputs": [
    {
     "name": "stdout",
     "output_type": "stream",
     "text": [
      "0\n",
      "1\n",
      "2\n",
      "3\n",
      "4\n",
      "5\n",
      "6\n",
      "7\n",
      "8\n",
      "9\n",
      "10\n",
      "11\n",
      "12\n",
      "13\n",
      "14\n",
      "[(8.6724977136e-08+0j), (1.68351766094e-07+0j), (8.24858048981e-07+0j), (2.585787691211701+0j), (2.079835515941e-06+0j), (1.39313796614e-06+0j), (7.869144162645e-06+0j), (3.411193320904e-06+0j), (5.961922666043e-06+0j), (2.115508299209e-06+0j), (1.4559210428692e-05+0j), (4.6740991771523e-05+0j), (8.780546545987e-06+0j), (0.007539115674025643+0j), (3.271812414958613+0j)]\n"
     ]
    },
    {
     "data": {
      "text/plain": [
       "Text(0, 0.5, 'Energy (Ha)')"
      ]
     },
     "execution_count": 50,
     "metadata": {},
     "output_type": "execute_result"
    },
    {
     "data": {
      "image/png": "[encoded data removed]",
      "text/plain": [
       "<Figure size 432x288 with 1 Axes>"
      ]
     },
     "metadata": {
      "needs_background": "light"
     },
     "output_type": "display_data"
    }
   ],
   "source": [
    "#Initial point of optimization\n",
    "seed = 50\n",
    "algorithm_globals.random_seed = seed\n",
    "qi = QuantumInstance(Aer.get_backend('statevector_simulator'), seed_transpiler=seed, seed_simulator=seed)\n",
    "slsqp = SLSQP(maxiter=1000)\n",
    "\n",
    "energies = []\n",
    "layers = []\n",
    "\n",
    "for i in range(15):\n",
    "    print(i)\n",
    "    ansatz = EfficientSU2(num_qubits=12, reps = i)\n",
    "    vqe = VQE(ansatz, optimizer=slsqp, quantum_instance=qi)\n",
    "    result = vqe.compute_minimum_eigenvalue(operator=op)\n",
    "    layers.append(i)\n",
    "    energies.append(result.eigenvalue)\n",
    "    \n",
    "print(energies)\n",
    "\n",
    "plt.plot(layers,energies,'bs')\n",
    "plt.xlabel('# of Hardware-Efficient Ansatz Layers')\n",
    "plt.ylabel('Energy (Ha)')\n",
    "#optimizer_evals = result.optimizer_evals"
   ]
  },
  {
   "cell_type": "code",
   "execution_count": 57,
   "id": "275bb409",
   "metadata": {},
   "outputs": [
    {
     "data": {
      "text/plain": [
       "Text(0, 0.5, 'Energy (Ha)')"
      ]
     },
     "execution_count": 57,
     "metadata": {},
     "output_type": "execute_result"
    },
    {
     "data": {
      "image/png": "[encoded data removed]",
      "text/plain": [
       "<Figure size 432x288 with 1 Axes>"
      ]
     },
     "metadata": {
      "needs_background": "light"
     },
     "output_type": "display_data"
    }
   ],
   "source": [
    "layersSave = layers.copy()\n",
    "energiesSave = energies.copy()\n",
    "\n",
    "plt.plot(layersSave,energiesSave)\n",
    "plt.xlabel('# of Hardware-Efficient Ansatz Layers')\n",
    "plt.ylabel('Energy (Ha)')"
   ]
  },
  {
   "cell_type": "code",
   "execution_count": null,
   "id": "72a0aaec",
   "metadata": {},
   "outputs": [],
   "source": []
  }
 ],
 "metadata": {
  "kernelspec": {
   "display_name": "Python 3 (ipykernel)",
   "language": "python",
   "name": "python3"
  },
  "language_info": {
   "codemirror_mode": {
    "name": "ipython",
    "version": 3
   },
   "file_extension": ".py",
   "mimetype": "text/x-python",
   "name": "python",
   "nbconvert_exporter": "python",
   "pygments_lexer": "ipython3",
   "version": "3.9.12"
  }
 },
 "nbformat": 4,
 "nbformat_minor": 5
}
