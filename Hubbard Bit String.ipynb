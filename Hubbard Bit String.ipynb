{
 "cells": [
  {
   "cell_type": "markdown",
   "id": "ef0c62df",
   "metadata": {},
   "source": [
    "# Hubbard Model Part I - Dhilan Nag"
   ]
  },
  {
   "cell_type": "code",
   "execution_count": 2,
   "id": "968c7b4e",
   "metadata": {},
   "outputs": [
    {
     "name": "stdout",
     "output_type": "stream",
     "text": [
      "# of sites: 2\n",
      "# of spin up electrons: 1\n",
      "# of spin down electrons: 1\n"
     ]
    }
   ],
   "source": [
    "from itertools import permutations as perm\n",
    "\n",
    "#Model parameters\n",
    "siteNum = int(input(\"# of sites: \"))\n",
    "upNum = int(input(\"# of spin up electrons: \"))\n",
    "downNum = int(input(\"# of spin down electrons: \"))"
   ]
  },
  {
   "cell_type": "code",
   "execution_count": 3,
   "id": "ca021ca0",
   "metadata": {},
   "outputs": [
    {
     "name": "stdout",
     "output_type": "stream",
     "text": [
      "|0,1>|0,1>\n",
      "|0,1>|1,0>\n",
      "|1,0>|0,1>\n",
      "|1,0>|1,0>\n",
      "\n"
     ]
    }
   ],
   "source": [
    "#Create bit strings\n",
    "\n",
    "#Spin up\n",
    "upStrings = []\n",
    "for i in range(upNum):\n",
    "    upStrings.append(\"1\")\n",
    "for i in range(siteNum-upNum):\n",
    "    upStrings.append(\"0\")\n",
    "\n",
    "upStrings = list(set(perm(upStrings,siteNum)))\n",
    "\n",
    "#Spin down\n",
    "downStrings = []\n",
    "for i in range(downNum):\n",
    "    downStrings.append(\"1\")\n",
    "for i in range(siteNum-downNum):\n",
    "    downStrings.append(\"0\")\n",
    "\n",
    "downStrings = list(set(perm(downStrings,siteNum)))\n",
    "\n",
    "#Set up string output for bit strings    \n",
    "output = \"|\"\n",
    "for up in upStrings:\n",
    "    for down in downStrings:\n",
    "        for b in up:\n",
    "            output += b+\",\"\n",
    "        output = output[0:len(output)-1]+\">|\"\n",
    "        for b in down:\n",
    "            output += b+\",\"\n",
    "        output = output[0:len(output)-1]+\">\\n|\"\n",
    "output = output[0:len(output)-1]\n",
    "    \n",
    "\n",
    "print(output)"
   ]
  },
  {
   "cell_type": "markdown",
   "id": "ae7dc9e5",
   "metadata": {},
   "source": [
    "# Hubbard Model Part II"
   ]
  },
  {
   "cell_type": "code",
   "execution_count": 8,
   "id": "da2e3d87",
   "metadata": {},
   "outputs": [
    {
     "name": "stdout",
     "output_type": "stream",
     "text": [
      "[[1, [1, 0, 1, 0]], [1, [1, 0, 1, 0]], [0, [1, 0, 1, 0]], [0, [1, 0, 1, 0]]]\n",
      "[[[0], [0]], [[1, [1, 0, 1, 0]], [1, [1, 0, 1, 0]]], [[1, [1, 0, 1, 0]], [0]], [[0], [1, [1, 0, 1, 0]]]]\n",
      "[[1. 1. 0. 0.]\n",
      " [1. 1. 0. 0.]\n",
      " [0. 0. 0. 0.]\n",
      " [0. 0. 0. 0.]]\n"
     ]
    }
   ],
   "source": [
    "from numpy import zeros as emptyM #empty matrix\n",
    "\n",
    "sampleHilb = [[1,0,1,0],\n",
    "              [0,1,0,1],\n",
    "              [0,1,1,0],\n",
    "              [1,0,0,1],] # 2 sites, half filled\n",
    "\n",
    "# sampleHilb = [[1,1,1,0],\n",
    "#               [1,1,0,1]]\n",
    "\n",
    "#Declare parameters\n",
    "t = 1\n",
    "U = 1\n",
    "hilbertSpace = sampleHilb #change from sampleHilb\n",
    "\n",
    "# Create empty Hamiltonian matrix\n",
    "ham = emptyM([len(hilbertSpace),len(hilbertSpace)])\n",
    "\n",
    "# Onsite term------\n",
    "\n",
    "#Counting Operator for individual bitstring\n",
    "def countingOp(bitString, spin, site):\n",
    "    # reduce bitstring to sites in question\n",
    "    if(spin == \"u\"):\n",
    "        siteFind = bitString[0:siteNum]\n",
    "    else:\n",
    "        siteFind = bitString[siteNum:]\n",
    "    # analyze fermion presence at site\n",
    "    if(siteFind[site] == 0):\n",
    "        return(0)\n",
    "    else:\n",
    "        return(1)\n",
    "\n",
    "#Compute coefficient for individual onsite term ket\n",
    "def computeOnsiteTerm(bitString, numSites, U):\n",
    "    coefficient = 0\n",
    "    for n in range(numSites):\n",
    "        if(countingOp(bitString,\"u\",n) == 1 and countingOp(bitString,\"d\",n) == 1):\n",
    "            coefficient += 1\n",
    "    return [coefficient*U,bitString]\n",
    "\n",
    "#onsite terms for each bit string\n",
    "#format: list index --> tuple [coefficient, bitString]\n",
    "        #list index represents bitString index in hilbert space\n",
    "u_terms = []\n",
    "for bitString in hilbertSpace:\n",
    "    u_terms.append(computeOnsiteTerm(bitString, siteNum, U))\n",
    "\n",
    "# Hopping term------\n",
    "\n",
    "#format: list index --> tuple [ [coefficient, modified up bitString] , [coefficient, modified down bitString] ]\n",
    "t_terms = []\n",
    "for ind, bitString in enumerate(hilbertSpace):\n",
    "    for i in range(siteNum-1):\n",
    "        coefficient = 0\n",
    "        newB = bitString\n",
    "        j = i+1\n",
    "        #address edge cases\n",
    "    #     if(j == siteNum):\n",
    "    #         j = 0\n",
    "\n",
    "        t_terms.append([[0],[0]])\n",
    "        #Spin up j annihilate, spin up i create\n",
    "        if(countingOp(newB,\"u\",j) == 1 and countingOp(newB,\"u\",i) == 0):\n",
    "            newB[j] = 0\n",
    "            newB[i] = 1\n",
    "            coefficient = 1\n",
    "            t_terms[ind][0] = [coefficient*t, newB]\n",
    "\n",
    "        #Spin down j annihilate, spin down i create\n",
    "        if(countingOp(newB,\"d\",j) == 1 and countingOp(newB,\"d\",i) == 0):\n",
    "            newB[j+siteNum] = 0\n",
    "            newB[i+siteNum] = 1\n",
    "            coefficient = 1\n",
    "            t_terms[ind][1] = [coefficient*t, newB]\n",
    "\n",
    "\n",
    "\n",
    "# inner product function\n",
    "def innerProd(b,k):\n",
    "    for i in range(len(k)):\n",
    "        if(k[i] != b[i]):\n",
    "            return(0)\n",
    "    return(1)\n",
    "\n",
    "\n",
    "c = 0\n",
    "# compute all inner products (u term)\n",
    "for i in range(len(hilbertSpace)):\n",
    "    for j in range(len(hilbertSpace)):\n",
    "        if(u_terms[j][0] != 0):\n",
    "#             print(hilbertSpace[j])\n",
    "#             print(u_terms[i][1])\n",
    "#             print()\n",
    "            ham[i,j] = u_terms[i][0]*innerProd(hilbertSpace[j], u_terms[i][1]) #<j|i>\n",
    "        else:\n",
    "            ham[i,j] = 0\n",
    "\n",
    "print(u_terms)\n",
    "print(t_terms)\n",
    "print(ham)"
   ]
  },
  {
   "cell_type": "code",
   "execution_count": null,
   "id": "1d6c7cd8",
   "metadata": {},
   "outputs": [],
   "source": []
  }
 ],
 "metadata": {
  "kernelspec": {
   "display_name": "Python 3 (ipykernel)",
   "language": "python",
   "name": "python3"
  },
  "language_info": {
   "codemirror_mode": {
    "name": "ipython",
    "version": 3
   },
   "file_extension": ".py",
   "mimetype": "text/x-python",
   "name": "python",
   "nbconvert_exporter": "python",
   "pygments_lexer": "ipython3",
   "version": "3.9.12"
  }
 },
 "nbformat": 4,
 "nbformat_minor": 5
}
