{
 "cells": [
  {
   "cell_type": "markdown",
   "id": "ef0c62df",
   "metadata": {},
   "source": [
    "# Hubbard Model Part I - Dhilan Nag"
   ]
  },
  {
   "cell_type": "code",
   "execution_count": 152,
   "id": "968c7b4e",
   "metadata": {},
   "outputs": [
    {
     "name": "stdout",
     "output_type": "stream",
     "text": [
      "# of sites: 2\n",
      "# of spin up electrons: 1\n",
      "# of spin down electrons: 1\n"
     ]
    }
   ],
   "source": [
    "from itertools import permutations as perm\n",
    "\n",
    "#Model parameters\n",
    "siteNum = int(input(\"# of sites: \"))\n",
    "upNum = int(input(\"# of spin up electrons: \"))\n",
    "downNum = int(input(\"# of spin down electrons: \"))"
   ]
  },
  {
   "cell_type": "code",
   "execution_count": 153,
   "id": "ca021ca0",
   "metadata": {},
   "outputs": [
    {
     "name": "stdout",
     "output_type": "stream",
     "text": [
      "|1,0>|1,0>\n",
      "|1,0>|0,1>\n",
      "|0,1>|1,0>\n",
      "|0,1>|0,1>\n",
      "\n"
     ]
    }
   ],
   "source": [
    "#Create bit strings\n",
    "\n",
    "#Spin up\n",
    "upStrings = []\n",
    "for i in range(upNum):\n",
    "    upStrings.append(\"1\")\n",
    "for i in range(siteNum-upNum):\n",
    "    upStrings.append(\"0\")\n",
    "\n",
    "upStrings = list(set(perm(upStrings,siteNum)))\n",
    "\n",
    "#Spin down\n",
    "downStrings = []\n",
    "for i in range(downNum):\n",
    "    downStrings.append(\"1\")\n",
    "for i in range(siteNum-downNum):\n",
    "    downStrings.append(\"0\")\n",
    "\n",
    "downStrings = list(set(perm(downStrings,siteNum)))\n",
    "\n",
    "#Set up string output for bit strings    \n",
    "output = \"|\"\n",
    "for up in upStrings:\n",
    "    for down in downStrings:\n",
    "        for b in up:\n",
    "            output += b+\",\"\n",
    "        output = output[0:len(output)-1]+\">|\"\n",
    "        for b in down:\n",
    "            output += b+\",\"\n",
    "        output = output[0:len(output)-1]+\">\\n|\"\n",
    "output = output[0:len(output)-1]\n",
    "    \n",
    "\n",
    "print(output)"
   ]
  },
  {
   "cell_type": "markdown",
   "id": "ae7dc9e5",
   "metadata": {},
   "source": [
    "# Hubbard Model Part II & III"
   ]
  },
  {
   "cell_type": "code",
   "execution_count": 157,
   "id": "da2e3d87",
   "metadata": {},
   "outputs": [
    {
     "name": "stdout",
     "output_type": "stream",
     "text": [
      "Hamiltonian matrix: \n",
      "[[1. 0. 0. 0.]\n",
      " [0. 1. 1. 1.]\n",
      " [1. 0. 0. 0.]\n",
      " [1. 0. 0. 0.]]\n",
      "Ground state energy = -1.0000000000000002\n"
     ]
    }
   ],
   "source": [
    "from numpy import zeros as emptyM #empty matrix\n",
    "from numpy.linalg import eigh\n",
    "\n",
    "#The following program is designed for 1-Dimensional Hubbard Models with open bounds\n",
    "\n",
    "sampleHilb = [[1,0,1,0],\n",
    "              [0,1,0,1],\n",
    "              [0,1,1,0],\n",
    "              [1,0,0,1],] # 2 sites, half filled\n",
    "\n",
    "# sampleHilb = [[1,1,0,1],\n",
    "#               [1,1,1,0]] # 2 sites, 3 electrons\n",
    "\n",
    "# sampleHilb = [[1,1,1,0,1,1],\n",
    "#               [1,1,1,1,1,0],\n",
    "#               [1,1,1,1,0,1]] # 3 sites, 5 electrons\n",
    "\n",
    "\n",
    "#Declare parameters\n",
    "t = 1\n",
    "U = 1\n",
    "hilbertSpace = sampleHilb #change from sampleHilb\n",
    "\n",
    "# Create empty Hamiltonian matrix\n",
    "ham = emptyM([len(hilbertSpace),len(hilbertSpace)])\n",
    "\n",
    "# Onsite term------\n",
    "\n",
    "#Counting Operator for individual bitstring\n",
    "def countingOp(bitString, spin, site):\n",
    "    # reduce bitstring to sites in question\n",
    "    if(spin == \"u\"):\n",
    "        siteFind = bitString[0:siteNum]\n",
    "    else:\n",
    "        siteFind = bitString[siteNum:]\n",
    "    # analyze fermion presence at site\n",
    "    if(siteFind[site] == 0):\n",
    "        return(0)\n",
    "    else:\n",
    "        return(1)\n",
    "\n",
    "#Compute coefficient for individual onsite term ket\n",
    "def computeOnsiteTerm(bitString, numSites, U):\n",
    "    coefficient = 0\n",
    "    for n in range(numSites):\n",
    "        if(countingOp(bitString,\"u\",n) == 1 and countingOp(bitString,\"d\",n) == 1):\n",
    "            coefficient += 1\n",
    "    return [coefficient*U,bitString]\n",
    "\n",
    "#onsite terms for each bit string\n",
    "#format: list index --> tuple [coefficient, bitString]\n",
    "        #list index represents bitString index in hilbert space\n",
    "u_terms = []\n",
    "for bitString in hilbertSpace:\n",
    "    u_terms.append(computeOnsiteTerm(bitString.copy(), siteNum, U))\n",
    "\n",
    "\n",
    "# Hopping term------\n",
    "\n",
    "#format: list index --> tuple [ [coefficient, modified up bitString] , [coefficient, modified down bitString] ]\n",
    "t_terms = []\n",
    "for ind in range(len(hilbertSpace)):\n",
    "    for i in range(siteNum-1):\n",
    "        coefficient1 = 0\n",
    "        coefficient2 = 0\n",
    "        \n",
    "        newB_1 = hilbertSpace[ind].copy()\n",
    "        newB_2 = hilbertSpace[ind].copy()\n",
    "        j = i+1\n",
    "        \n",
    "        t_terms.append([[0],[0]])\n",
    "        \n",
    "        #Spin up j annihilate, spin up i create\n",
    "        if(countingOp(newB_1,\"u\",j) == 1 and countingOp(newB_1,\"u\",i) == 0):\n",
    "            newB_1[j] = 0\n",
    "            newB_1[i] = 1\n",
    "            coefficient1 += 1\n",
    "            \n",
    "            #fermionic phase statistic\n",
    "            for f in range(i): \n",
    "                if(countingOp(newB_1,\"u\",i) == 1):\n",
    "                    coefficient1 *= -1\n",
    "                    \n",
    "            t_terms[ind][0] = [coefficient1*t, newB_1]\n",
    "\n",
    "        #Spin down j annihilate, spin down i create\n",
    "        if(countingOp(newB_2,\"d\",j) == 1 and countingOp(newB_2,\"d\",i) == 0):\n",
    "            newB_2[j+siteNum] = 0\n",
    "            newB_2[i+siteNum] = 1\n",
    "            coefficient2 += 1\n",
    "            \n",
    "            #fermionic phase statistic\n",
    "            for f in range(i): \n",
    "                if(countingOp(newB_2,\"d\",i) == 1):\n",
    "                    coefficient2 *= -1\n",
    "                    \n",
    "            t_terms[ind][1] = [coefficient2*t, newB_2]\n",
    "\n",
    "# inner product function\n",
    "def innerProd(b,k):\n",
    "    for i in range(len(k)):\n",
    "        if(k[i] != b[i]):\n",
    "            return(0)\n",
    "    return(1)\n",
    "\n",
    "\n",
    "c = 0\n",
    "# compute all inner products (u term)\n",
    "for i in range(len(hilbertSpace)):\n",
    "    for j in range(len(hilbertSpace)):\n",
    "        #add in u term values\n",
    "        if(u_terms[j][0] != 0):\n",
    "            ham[i,j] += u_terms[i][0]*innerProd(hilbertSpace[j], u_terms[i][1]) #<j|i>\n",
    "        #add in t term values\n",
    "        for b in t_terms[i]:\n",
    "            if(b != [0]):\n",
    "                ham[i,j] += b[0]*innerProd(hilbertSpace[j], b[1])\n",
    "\n",
    "# print(u_terms)\n",
    "# print(t_terms)\n",
    "# print(ham)\n",
    "\n",
    "#diagonalize matrix\n",
    "ground = min(eigh(ham)[0])\n",
    "\n",
    "print(\"Hamiltonian matrix: \\n\"+str(ham))\n",
    "print(\"Ground state energy = \"+str(ground))"
   ]
  },
  {
   "cell_type": "markdown",
   "id": "86889506",
   "metadata": {},
   "source": [
    "# Hubbard Model Part IV: Qiskit Attempt"
   ]
  },
  {
   "cell_type": "code",
   "execution_count": 2,
   "id": "4d866921",
   "metadata": {},
   "outputs": [],
   "source": [
    "from qiskit_nature.problems.second_quantization.lattice import LineLattice, FermiHubbardModel\n",
    "import networkx as nx\n",
    "import numpy as np"
   ]
  },
  {
   "cell_type": "code",
   "execution_count": 61,
   "id": "24c08c61",
   "metadata": {},
   "outputs": [
    {
     "name": "stdout",
     "output_type": "stream",
     "text": [
      "Fermionic Operator\n",
      "register length=8, number terms=24\n",
      "  (0.9+0j) * ( +_0 -_2 )\n",
      "+ (-0.9+0j) * ( -_0 +_2 )\n",
      "+ (0.9+0j) * ( +_2 -_4 )\n",
      "+ (-0.9+0j) * ( -_2 +_4 )\n",
      "+ (0.9+0j) * ( +_4 -_6 )\n",
      "+ (-0.9+0j) * ( -_4 +_6 )\n",
      "+ (1.3+0j) * ( +_0 -_0 )\n",
      "+ (1.3+0j) * ( +_2 ...\n",
      "\n",
      "[[4.8+0.j 0.2+0.j]\n",
      " [0.2+0.j 2.1+0.j]]\n",
      "\n",
      "[[1.3+0.j 0.9+0.j 0. +0.j 0. +0.j]\n",
      " [0.9+0.j 1.3+0.j 0.9+0.j 0. +0.j]\n",
      " [0. +0.j 0.9+0.j 1.3+0.j 0.9+0.j]\n",
      " [0. +0.j 0. +0.j 0.9+0.j 1.3+0.j]]\n"
     ]
    }
   ],
   "source": [
    "#U = onsite_parameter and t = edge_parameter\n",
    "lattice = LineLattice(4,onsite_parameter=1.3,edge_parameter=0.9)\n",
    "\n",
    "onsite = 2 #onsite interaction strength\n",
    "\n",
    "hopping = np.array([[4.8, 0.2],[5.9, 2.1]],dtype=float)\n",
    "\n",
    "hamiltonian = FermiHubbardModel(lattice, 2).second_q_ops(display_format=\"sparse\")\n",
    "print(hamiltonian)\n",
    "print()\n",
    "\n",
    "hamiltonian = FermiHubbardModel(lattice, 2).from_parameters(hopping,2.4).hopping_matrix()\n",
    "print(hamiltonian)\n",
    "print()\n",
    "\n",
    "hamiltonian = FermiHubbardModel(lattice, 2).hopping_matrix()\n",
    "print(hamiltonian)"
   ]
  },
  {
   "cell_type": "code",
   "execution_count": null,
   "id": "9338d0a4",
   "metadata": {},
   "outputs": [],
   "source": []
  }
 ],
 "metadata": {
  "kernelspec": {
   "display_name": "Python 3 (ipykernel)",
   "language": "python",
   "name": "python3"
  },
  "language_info": {
   "codemirror_mode": {
    "name": "ipython",
    "version": 3
   },
   "file_extension": ".py",
   "mimetype": "text/x-python",
   "name": "python",
   "nbconvert_exporter": "python",
   "pygments_lexer": "ipython3",
   "version": "3.9.12"
  }
 },
 "nbformat": 4,
 "nbformat_minor": 5
}
