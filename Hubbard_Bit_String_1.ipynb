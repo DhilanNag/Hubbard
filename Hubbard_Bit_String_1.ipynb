{
 "cells": [
  {
   "cell_type": "markdown",
   "id": "fde8340e",
   "metadata": {},
   "source": [
    "# Hubbard Model Part I - Dhilan Nag"
   ]
  },
  {
   "cell_type": "code",
   "execution_count": null,
   "id": "e0ba4b4e",
   "metadata": {},
   "outputs": [],
   "source": [
    "from itertools import permutations as perm\n",
    "\n",
    "#Model parameters\n",
    "siteNum = int(input(\"# of sites: \"))\n",
    "upNum = int(input(\"# of spin up electrons: \"))\n",
    "downNum = int(input(\"# of spin down electrons: \"))"
   ]
  },
  {
   "cell_type": "code",
   "execution_count": null,
   "id": "d2112cfa",
   "metadata": {},
   "outputs": [],
   "source": [
    "#Create bit strings\n",
    "\n",
    "#Spin up\n",
    "upStrings = []\n",
    "for i in range(upNum):\n",
    "    upStrings.append(\"1\")\n",
    "for i in range(siteNum-upNum):\n",
    "    upStrings.append(\"0\")\n",
    "\n",
    "upStrings = list(set(perm(upStrings,siteNum)))\n",
    "\n",
    "#Spin down\n",
    "downStrings = []\n",
    "for i in range(downNum):\n",
    "    downStrings.append(\"1\")\n",
    "for i in range(siteNum-downNum):\n",
    "    downStrings.append(\"0\")\n",
    "\n",
    "downStrings = list(set(perm(downStrings,siteNum)))\n",
    "\n",
    "#Set up string output for bit strings    \n",
    "output = \"|\"\n",
    "for up in upStrings:\n",
    "    for down in downStrings:\n",
    "        for b in up:\n",
    "            output += b+\",\"\n",
    "        output = output[0:len(output)-1]+\">|\"\n",
    "        for b in down:\n",
    "            output += b+\",\"\n",
    "        output = output[0:len(output)-1]+\">\\n|\"\n",
    "output = output[0:len(output)-1]\n",
    "    \n",
    "    \n",
    "print(output)"
   ]
  },
  {
   "cell_type": "markdown",
   "id": "c03217e5",
   "metadata": {},
   "source": []
  },
  {
   "cell_type": "code",
   "execution_count": null,
   "id": "7ab2a869",
   "metadata": {},
   "outputs": [],
   "source": []
  }
 ],
 "metadata": {
  "kernelspec": {
   "display_name": "Python 3 (ipykernel)",
   "language": "python",
   "name": "python3"
  },
  "language_info": {
   "codemirror_mode": {
    "name": "ipython",
    "version": 3
   },
   "file_extension": ".py",
   "mimetype": "text/x-python",
   "name": "python",
   "nbconvert_exporter": "python",
   "pygments_lexer": "ipython3",
   "version": "3.9.12"
  }
 },
 "nbformat": 4,
 "nbformat_minor": 5
}
